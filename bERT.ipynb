{
  "nbformat": 4,
  "nbformat_minor": 0,
  "metadata": {
    "colab": {
      "name": "bERT",
      "provenance": [],
      "collapsed_sections": [],
      "toc_visible": true,
      "authorship_tag": "ABX9TyMgbt3uykya2s7lZvfR9qfC",
      "include_colab_link": true
    },
    "kernelspec": {
      "name": "python3",
      "display_name": "Python 3"
    },
    "accelerator": "GPU"
  },
  "cells": [
    {
      "cell_type": "markdown",
      "metadata": {
        "id": "view-in-github",
        "colab_type": "text"
      },
      "source": [
        "<a href=\"https://colab.research.google.com/github/kumaranu7/Tweet-Sentiments-analysis-using-BERT/blob/master/bERT.ipynb\" target=\"_parent\"><img src=\"https://colab.research.google.com/assets/colab-badge.svg\" alt=\"Open In Colab\"/></a>"
      ]
    },
    {
      "cell_type": "code",
      "metadata": {
        "id": "_95zEX7w6Ovh",
        "colab_type": "code",
        "colab": {
          "base_uri": "https://localhost:8080/",
          "height": 122
        },
        "outputId": "b07ba751-3d1f-444d-d4e0-fa08a2026874"
      },
      "source": [
        "from google.colab import drive\n",
        "drive.mount('/content/drive')"
      ],
      "execution_count": 1,
      "outputs": [
        {
          "output_type": "stream",
          "text": [
            "Go to this URL in a browser: https://accounts.google.com/o/oauth2/auth?client_id=947318989803-6bn6qk8qdgf4n4g3pfee6491hc0brc4i.apps.googleusercontent.com&redirect_uri=urn%3aietf%3awg%3aoauth%3a2.0%3aoob&response_type=code&scope=email%20https%3a%2f%2fwww.googleapis.com%2fauth%2fdocs.test%20https%3a%2f%2fwww.googleapis.com%2fauth%2fdrive%20https%3a%2f%2fwww.googleapis.com%2fauth%2fdrive.photos.readonly%20https%3a%2f%2fwww.googleapis.com%2fauth%2fpeopleapi.readonly\n",
            "\n",
            "Enter your authorization code:\n",
            "··········\n",
            "Mounted at /content/drive\n"
          ],
          "name": "stdout"
        }
      ]
    },
    {
      "cell_type": "code",
      "metadata": {
        "id": "2HpDIXiA6m-y",
        "colab_type": "code",
        "colab": {
          "base_uri": "https://localhost:8080/",
          "height": 63
        },
        "outputId": "1e70fa55-ddfd-468b-8534-d6b3f87ce8c5"
      },
      "source": [
        "import  numpy as np\n",
        "import pandas as pd\n",
        "import re\n",
        "import tensorflow as tf\n",
        "from tensorflow.keras.layers import Dense, Input, Dropout\n",
        "from tensorflow.keras.optimizers import Adam\n",
        "from tensorflow.keras.models import Model\n",
        "from tensorflow.keras.callbacks import ModelCheckpoint\n",
        "import tensorflow_hub as hub\n"
      ],
      "execution_count": 2,
      "outputs": [
        {
          "output_type": "display_data",
          "data": {
            "text/html": [
              "<p style=\"color: red;\">\n",
              "The default version of TensorFlow in Colab will soon switch to TensorFlow 2.x.<br>\n",
              "We recommend you <a href=\"https://www.tensorflow.org/guide/migrate\" target=\"_blank\">upgrade</a> now \n",
              "or ensure your notebook will continue to use TensorFlow 1.x via the <code>%tensorflow_version 1.x</code> magic:\n",
              "<a href=\"https://colab.research.google.com/notebooks/tensorflow_version.ipynb\" target=\"_blank\">more info</a>.</p>\n"
            ],
            "text/plain": [
              "<IPython.core.display.HTML object>"
            ]
          },
          "metadata": {
            "tags": []
          }
        }
      ]
    },
    {
      "cell_type": "code",
      "metadata": {
        "id": "G1hGNtWj6-nT",
        "colab_type": "code",
        "colab": {}
      },
      "source": [
        "tf.compat.v1.enable_eager_execution() # to prevent the error \" 'Tensor' object has no attribute 'numpy' \"."
      ],
      "execution_count": 0,
      "outputs": []
    },
    {
      "cell_type": "code",
      "metadata": {
        "id": "RYZa-opZ7HWJ",
        "colab_type": "code",
        "colab": {
          "base_uri": "https://localhost:8080/",
          "height": 119
        },
        "outputId": "f6e94969-8641-4eb5-ce35-7625bacc1524"
      },
      "source": [
        "!pip install bert-tensorflow"
      ],
      "execution_count": 5,
      "outputs": [
        {
          "output_type": "stream",
          "text": [
            "Collecting bert-tensorflow\n",
            "\u001b[?25l  Downloading https://files.pythonhosted.org/packages/a6/66/7eb4e8b6ea35b7cc54c322c816f976167a43019750279a8473d355800a93/bert_tensorflow-1.0.1-py2.py3-none-any.whl (67kB)\n",
            "\r\u001b[K     |████▉                           | 10kB 34.3MB/s eta 0:00:01\r\u001b[K     |█████████▊                      | 20kB 3.0MB/s eta 0:00:01\r\u001b[K     |██████████████▋                 | 30kB 4.3MB/s eta 0:00:01\r\u001b[K     |███████████████████▍            | 40kB 2.8MB/s eta 0:00:01\r\u001b[K     |████████████████████████▎       | 51kB 3.5MB/s eta 0:00:01\r\u001b[K     |█████████████████████████████▏  | 61kB 4.2MB/s eta 0:00:01\r\u001b[K     |████████████████████████████████| 71kB 3.6MB/s \n",
            "\u001b[?25hRequirement already satisfied: six in /usr/local/lib/python3.6/dist-packages (from bert-tensorflow) (1.12.0)\n",
            "Installing collected packages: bert-tensorflow\n",
            "Successfully installed bert-tensorflow-1.0.1\n"
          ],
          "name": "stdout"
        }
      ]
    },
    {
      "cell_type": "code",
      "metadata": {
        "id": "EryF4wtA7DHu",
        "colab_type": "code",
        "colab": {}
      },
      "source": [
        "from bert import tokenization"
      ],
      "execution_count": 0,
      "outputs": []
    },
    {
      "cell_type": "code",
      "metadata": {
        "id": "_2ANcbAj7Fpq",
        "colab_type": "code",
        "colab": {}
      },
      "source": [
        "train = pd.read_csv('/content/drive/My Drive/bert/train.csv')\n",
        "test = pd.read_csv('/content/drive/My Drive/bert/test.csv')"
      ],
      "execution_count": 0,
      "outputs": []
    },
    {
      "cell_type": "code",
      "metadata": {
        "id": "GP41CWhu7WZ4",
        "colab_type": "code",
        "colab": {
          "base_uri": "https://localhost:8080/",
          "height": 204
        },
        "outputId": "f2628646-eef9-4245-bf15-734eacb4924a"
      },
      "source": [
        "train.head()"
      ],
      "execution_count": 9,
      "outputs": [
        {
          "output_type": "execute_result",
          "data": {
            "text/html": [
              "<div>\n",
              "<style scoped>\n",
              "    .dataframe tbody tr th:only-of-type {\n",
              "        vertical-align: middle;\n",
              "    }\n",
              "\n",
              "    .dataframe tbody tr th {\n",
              "        vertical-align: top;\n",
              "    }\n",
              "\n",
              "    .dataframe thead th {\n",
              "        text-align: right;\n",
              "    }\n",
              "</style>\n",
              "<table border=\"1\" class=\"dataframe\">\n",
              "  <thead>\n",
              "    <tr style=\"text-align: right;\">\n",
              "      <th></th>\n",
              "      <th>id</th>\n",
              "      <th>keyword</th>\n",
              "      <th>location</th>\n",
              "      <th>text</th>\n",
              "      <th>target</th>\n",
              "    </tr>\n",
              "  </thead>\n",
              "  <tbody>\n",
              "    <tr>\n",
              "      <th>0</th>\n",
              "      <td>1</td>\n",
              "      <td>NaN</td>\n",
              "      <td>NaN</td>\n",
              "      <td>Our Deeds are the Reason of this #earthquake M...</td>\n",
              "      <td>1</td>\n",
              "    </tr>\n",
              "    <tr>\n",
              "      <th>1</th>\n",
              "      <td>4</td>\n",
              "      <td>NaN</td>\n",
              "      <td>NaN</td>\n",
              "      <td>Forest fire near La Ronge Sask. Canada</td>\n",
              "      <td>1</td>\n",
              "    </tr>\n",
              "    <tr>\n",
              "      <th>2</th>\n",
              "      <td>5</td>\n",
              "      <td>NaN</td>\n",
              "      <td>NaN</td>\n",
              "      <td>All residents asked to 'shelter in place' are ...</td>\n",
              "      <td>1</td>\n",
              "    </tr>\n",
              "    <tr>\n",
              "      <th>3</th>\n",
              "      <td>6</td>\n",
              "      <td>NaN</td>\n",
              "      <td>NaN</td>\n",
              "      <td>13,000 people receive #wildfires evacuation or...</td>\n",
              "      <td>1</td>\n",
              "    </tr>\n",
              "    <tr>\n",
              "      <th>4</th>\n",
              "      <td>7</td>\n",
              "      <td>NaN</td>\n",
              "      <td>NaN</td>\n",
              "      <td>Just got sent this photo from Ruby #Alaska as ...</td>\n",
              "      <td>1</td>\n",
              "    </tr>\n",
              "  </tbody>\n",
              "</table>\n",
              "</div>"
            ],
            "text/plain": [
              "   id keyword  ...                                               text target\n",
              "0   1     NaN  ...  Our Deeds are the Reason of this #earthquake M...      1\n",
              "1   4     NaN  ...             Forest fire near La Ronge Sask. Canada      1\n",
              "2   5     NaN  ...  All residents asked to 'shelter in place' are ...      1\n",
              "3   6     NaN  ...  13,000 people receive #wildfires evacuation or...      1\n",
              "4   7     NaN  ...  Just got sent this photo from Ruby #Alaska as ...      1\n",
              "\n",
              "[5 rows x 5 columns]"
            ]
          },
          "metadata": {
            "tags": []
          },
          "execution_count": 9
        }
      ]
    },
    {
      "cell_type": "code",
      "metadata": {
        "id": "qMsg-jXt7aDW",
        "colab_type": "code",
        "colab": {
          "base_uri": "https://localhost:8080/",
          "height": 51
        },
        "outputId": "beab3f33-571e-44bc-d897-ff97025a0021"
      },
      "source": [
        "%%time\n",
        "module_url = \"https://tfhub.dev/tensorflow/bert_en_uncased_L-12_H-768_A-12/1\"\n",
        "bert_layer = hub.KerasLayer(module_url, trainable=True)"
      ],
      "execution_count": 10,
      "outputs": [
        {
          "output_type": "stream",
          "text": [
            "CPU times: user 8.68 s, sys: 1.69 s, total: 10.4 s\n",
            "Wall time: 22.3 s\n"
          ],
          "name": "stdout"
        }
      ]
    },
    {
      "cell_type": "code",
      "metadata": {
        "id": "RZH-ICfk7ac3",
        "colab_type": "code",
        "colab": {
          "base_uri": "https://localhost:8080/",
          "height": 85
        },
        "outputId": "d98f33e9-80ec-473a-e71c-5de7cf4ad248"
      },
      "source": [
        "vocab_file = bert_layer.resolved_object.vocab_file.asset_path.numpy()\n",
        "do_lower_case = bert_layer.resolved_object.do_lower_case.numpy()\n",
        "tokenizer = tokenization.FullTokenizer(vocab_file, do_lower_case)"
      ],
      "execution_count": 11,
      "outputs": [
        {
          "output_type": "stream",
          "text": [
            "WARNING:tensorflow:From /usr/local/lib/python3.6/dist-packages/bert/tokenization.py:125: The name tf.gfile.GFile is deprecated. Please use tf.io.gfile.GFile instead.\n",
            "\n"
          ],
          "name": "stdout"
        },
        {
          "output_type": "stream",
          "text": [
            "WARNING:tensorflow:From /usr/local/lib/python3.6/dist-packages/bert/tokenization.py:125: The name tf.gfile.GFile is deprecated. Please use tf.io.gfile.GFile instead.\n",
            "\n"
          ],
          "name": "stderr"
        }
      ]
    },
    {
      "cell_type": "code",
      "metadata": {
        "id": "CSQ8EU-Q7b6c",
        "colab_type": "code",
        "colab": {}
      },
      "source": [
        "def pre_process(doc, tokenizer, max_len = 512):\n",
        "  all_tokens = []\n",
        "  all_mask = []\n",
        "  all_segments = []\n",
        "\n",
        "  for data in doc:\n",
        "    review = re.sub('[^a-z A-Z]', ' ', data)\n",
        "    url = re.compile('https?://\\S+|www\\.\\S+')\n",
        "    review = url.sub(r'', review)\n",
        "    html = re.compile('<.*?>')\n",
        "    review = html.sub(r'', review)\n",
        "\n",
        "    emoji_pattern = re.compile(\"[\"\n",
        "                           u\"\\U0001F600-\\U0001F64F\"  # emoticons\n",
        "                           u\"\\U0001F300-\\U0001F5FF\"  # symbols & pictographs\n",
        "                           u\"\\U0001F680-\\U0001F6FF\"  # transport & map symbols\n",
        "                           u\"\\U0001F1E0-\\U0001F1FF\"  # flags (iOS)\n",
        "                           u\"\\U00002702-\\U000027B0\"\n",
        "                           u\"\\U000024C2-\\U0001F251\"\n",
        "                           \"]+\", flags=re.UNICODE)\n",
        "    review = emoji_pattern.sub(r'', review)\n",
        "    text = tokenizer.tokenize(review)\n",
        "\n",
        "    text = text[:max_len-2]\n",
        "    ip_seq = ['[CLS]'] + text + ['[SEP]']\n",
        "    pad_len = max_len - len(ip_seq)\n",
        "\n",
        "    tokens = tokenizer.convert_tokens_to_ids(ip_seq)\n",
        "    tokens += [0]*pad_len\n",
        "    pad_mask = [1]*len(ip_seq) + [0]*pad_len\n",
        "\n",
        "    segmend_id = [0]*max_len\n",
        "\n",
        "    all_tokens.append(tokens)\n",
        "    all_mask.append(pad_mask)\n",
        "    all_segments.append(segmend_id)\n",
        "\n",
        "  return (np.array(all_tokens), np.array(all_mask), np.array(all_segments))"
      ],
      "execution_count": 0,
      "outputs": []
    },
    {
      "cell_type": "code",
      "metadata": {
        "id": "7e7qkUBQ7gKJ",
        "colab_type": "code",
        "colab": {}
      },
      "source": [
        "max_len = 512"
      ],
      "execution_count": 0,
      "outputs": []
    },
    {
      "cell_type": "code",
      "metadata": {
        "id": "BQf532Xx7gyf",
        "colab_type": "code",
        "colab": {
          "base_uri": "https://localhost:8080/",
          "height": 357
        },
        "outputId": "676bd43a-99a6-4dde-adbb-e2ae566622e4"
      },
      "source": [
        "input_word_id = Input(shape=(max_len ,),dtype=tf.int32, name=\"input_word_ids\")\n",
        "input_mask = Input(shape=(max_len ,), dtype=tf.int32, name=\"input_mask\")\n",
        "segment_id = Input(shape=(max_len ,), dtype=tf.int32, name = \"segment_id\")\n",
        "\n",
        "_, seq_op = bert_layer([input_word_id, input_mask, segment_id])\n",
        "clf_output = seq_op[:, 0, :]\n",
        "model = Model(inputs = [input_word_id, input_mask, segment_id], outputs = clf_output)\n",
        "model.compile(Adam(lr=2e-5), loss = 'binary_crossentropy', metrics = ['accuracy'])\n",
        "model.summary()"
      ],
      "execution_count": 14,
      "outputs": [
        {
          "output_type": "stream",
          "text": [
            "Model: \"model\"\n",
            "__________________________________________________________________________________________________\n",
            "Layer (type)                    Output Shape         Param #     Connected to                     \n",
            "==================================================================================================\n",
            "input_word_ids (InputLayer)     [(None, 512)]        0                                            \n",
            "__________________________________________________________________________________________________\n",
            "input_mask (InputLayer)         [(None, 512)]        0                                            \n",
            "__________________________________________________________________________________________________\n",
            "segment_id (InputLayer)         [(None, 512)]        0                                            \n",
            "__________________________________________________________________________________________________\n",
            "keras_layer (KerasLayer)        [(None, 768), (None, 109482241   input_word_ids[0][0]             \n",
            "                                                                 input_mask[0][0]                 \n",
            "                                                                 segment_id[0][0]                 \n",
            "__________________________________________________________________________________________________\n",
            "tf_op_layer_strided_slice (Tens [(None, 768)]        0           keras_layer[0][1]                \n",
            "==================================================================================================\n",
            "Total params: 109,482,241\n",
            "Trainable params: 109,482,240\n",
            "Non-trainable params: 1\n",
            "__________________________________________________________________________________________________\n"
          ],
          "name": "stdout"
        }
      ]
    },
    {
      "cell_type": "code",
      "metadata": {
        "id": "-kGmzwSo7iP9",
        "colab_type": "code",
        "colab": {
          "base_uri": "https://localhost:8080/",
          "height": 51
        },
        "outputId": "73b1c0a6-9624-45a0-f209-62323a33b885"
      },
      "source": [
        "print('shape of _ layer of BERT' + str(_.shape))\n",
        "print('shape of last layer of BERT' + str(seq_op))"
      ],
      "execution_count": 15,
      "outputs": [
        {
          "output_type": "stream",
          "text": [
            "shape of _ layer of BERT(?, 768)\n",
            "shape of last layer of BERTTensor(\"keras_layer/Identity_1:0\", shape=(?, ?, 768), dtype=float32)\n"
          ],
          "name": "stdout"
        }
      ]
    },
    {
      "cell_type": "code",
      "metadata": {
        "id": "B2UDXUMc7kUw",
        "colab_type": "code",
        "colab": {}
      },
      "source": [
        "def bert_model(bert_layer, max_len = 512):\n",
        "  input_word_id = Input(shape=(max_len,),dtype=tf.int32, name=\"input_word_ids\")\n",
        "  input_mask = Input(shape=(max_len,), dtype=tf.int32, name=\"input_mask\")\n",
        "  segment_id = Input(shape=(max_len,), dtype=tf.int32, name = \"segment_id\")\n",
        "  \n",
        "  _, sequence_output = bert_layer([input_word_id, input_mask, segment_id])\n",
        "  clf_output = sequence_output[:, 0, :]\n",
        "  dense_1 = Dense(256, 'relu')(clf_output)\n",
        "  dense_1 = Dropout(0.4)(dense_1)\n",
        "  dense_2 = Dense(128, activation='relu')(dense_1)\n",
        "  dense_2 = Dropout(0.4)(dense_2)\n",
        "  out = Dense(1, activation='sigmoid')(dense_2)\n",
        "\n",
        "  model = Model(inputs = [input_word_id, input_mask, segment_id], outputs = out)\n",
        "  model.compile(Adam(lr = 2e-5), loss = 'binary_crossentropy', metrics = ['accuracy'])\n",
        "\n",
        "  return model"
      ],
      "execution_count": 0,
      "outputs": []
    },
    {
      "cell_type": "code",
      "metadata": {
        "id": "gTglAZRT7q2U",
        "colab_type": "code",
        "colab": {}
      },
      "source": [
        "train_ip = pre_process(train.text.values, tokenizer, max_len = 260)\n",
        "test_ip = pre_process(test.text.values, tokenizer, max_len = 260)\n",
        "train_label = train.target.values\n"
      ],
      "execution_count": 0,
      "outputs": []
    },
    {
      "cell_type": "code",
      "metadata": {
        "id": "iFYng1mC7so5",
        "colab_type": "code",
        "colab": {
          "base_uri": "https://localhost:8080/",
          "height": 527
        },
        "outputId": "d454c689-0183-4c5f-9730-0a94675d7797"
      },
      "source": [
        "model = bert_model(bert_layer, max_len=260)\n",
        "model.summary()"
      ],
      "execution_count": 18,
      "outputs": [
        {
          "output_type": "stream",
          "text": [
            "Model: \"model_1\"\n",
            "__________________________________________________________________________________________________\n",
            "Layer (type)                    Output Shape         Param #     Connected to                     \n",
            "==================================================================================================\n",
            "input_word_ids (InputLayer)     [(None, 260)]        0                                            \n",
            "__________________________________________________________________________________________________\n",
            "input_mask (InputLayer)         [(None, 260)]        0                                            \n",
            "__________________________________________________________________________________________________\n",
            "segment_id (InputLayer)         [(None, 260)]        0                                            \n",
            "__________________________________________________________________________________________________\n",
            "keras_layer (KerasLayer)        [(None, 768), (None, 109482241   input_word_ids[0][0]             \n",
            "                                                                 input_mask[0][0]                 \n",
            "                                                                 segment_id[0][0]                 \n",
            "__________________________________________________________________________________________________\n",
            "tf_op_layer_strided_slice_1 (Te [(None, 768)]        0           keras_layer[1][1]                \n",
            "__________________________________________________________________________________________________\n",
            "dense (Dense)                   (None, 256)          196864      tf_op_layer_strided_slice_1[0][0]\n",
            "__________________________________________________________________________________________________\n",
            "dropout (Dropout)               (None, 256)          0           dense[0][0]                      \n",
            "__________________________________________________________________________________________________\n",
            "dense_1 (Dense)                 (None, 128)          32896       dropout[0][0]                    \n",
            "__________________________________________________________________________________________________\n",
            "dropout_1 (Dropout)             (None, 128)          0           dense_1[0][0]                    \n",
            "__________________________________________________________________________________________________\n",
            "dense_2 (Dense)                 (None, 1)            129         dropout_1[0][0]                  \n",
            "==================================================================================================\n",
            "Total params: 109,712,130\n",
            "Trainable params: 109,712,129\n",
            "Non-trainable params: 1\n",
            "__________________________________________________________________________________________________\n"
          ],
          "name": "stdout"
        }
      ]
    },
    {
      "cell_type": "code",
      "metadata": {
        "id": "Tp9SBrfE7woG",
        "colab_type": "code",
        "colab": {
          "base_uri": "https://localhost:8080/",
          "height": 496
        },
        "outputId": "f3baa167-0659-4f76-d108-4f1645ed3db8"
      },
      "source": [
        "checkpoint = ModelCheckpoint('model.h5',  monitor = 'val_loss', save_best_only=True)\n",
        "train_history = model.fit(train_ip, train_label, validation_split=0.2, epochs=10, callbacks= [checkpoint], batch_size=32)"
      ],
      "execution_count": 19,
      "outputs": [
        {
          "output_type": "stream",
          "text": [
            "Train on 6090 samples, validate on 1523 samples\n",
            "Epoch 1/10\n",
            "WARNING:tensorflow:From /usr/local/lib/python3.6/dist-packages/tensorflow_core/python/ops/nn_impl.py:183: where (from tensorflow.python.ops.array_ops) is deprecated and will be removed in a future version.\n",
            "Instructions for updating:\n",
            "Use tf.where in 2.0, which has the same broadcast rule as np.where\n"
          ],
          "name": "stdout"
        },
        {
          "output_type": "stream",
          "text": [
            "WARNING:tensorflow:From /usr/local/lib/python3.6/dist-packages/tensorflow_core/python/ops/nn_impl.py:183: where (from tensorflow.python.ops.array_ops) is deprecated and will be removed in a future version.\n",
            "Instructions for updating:\n",
            "Use tf.where in 2.0, which has the same broadcast rule as np.where\n"
          ],
          "name": "stderr"
        },
        {
          "output_type": "stream",
          "text": [
            "6090/6090 [==============================] - 221s 36ms/sample - loss: 0.4719 - acc: 0.7947 - val_loss: 0.4021 - val_acc: 0.8267\n",
            "Epoch 2/10\n",
            "6090/6090 [==============================] - 202s 33ms/sample - loss: 0.3451 - acc: 0.8693 - val_loss: 0.3934 - val_acc: 0.8332\n",
            "Epoch 3/10\n",
            "6090/6090 [==============================] - 198s 32ms/sample - loss: 0.2298 - acc: 0.9179 - val_loss: 0.4535 - val_acc: 0.8352\n",
            "Epoch 4/10\n",
            "6090/6090 [==============================] - 198s 32ms/sample - loss: 0.1398 - acc: 0.9498 - val_loss: 0.5996 - val_acc: 0.8207\n",
            "Epoch 5/10\n",
            "6090/6090 [==============================] - 198s 32ms/sample - loss: 0.0858 - acc: 0.9688 - val_loss: 0.6480 - val_acc: 0.8234\n",
            "Epoch 6/10\n",
            "6090/6090 [==============================] - 198s 33ms/sample - loss: 0.0572 - acc: 0.9760 - val_loss: 0.9249 - val_acc: 0.8122\n",
            "Epoch 7/10\n",
            "6090/6090 [==============================] - 198s 33ms/sample - loss: 0.0419 - acc: 0.9814 - val_loss: 1.1023 - val_acc: 0.8221\n",
            "Epoch 8/10\n",
            "6090/6090 [==============================] - 198s 33ms/sample - loss: 0.0608 - acc: 0.9770 - val_loss: 0.8871 - val_acc: 0.8148\n",
            "Epoch 9/10\n",
            "6090/6090 [==============================] - 198s 33ms/sample - loss: 0.0449 - acc: 0.9844 - val_loss: 0.9183 - val_acc: 0.8050\n",
            "Epoch 10/10\n",
            "6090/6090 [==============================] - 198s 33ms/sample - loss: 0.0234 - acc: 0.9898 - val_loss: 1.1388 - val_acc: 0.8221\n"
          ],
          "name": "stdout"
        }
      ]
    },
    {
      "cell_type": "code",
      "metadata": {
        "id": "jh9RYNNK8IZ9",
        "colab_type": "code",
        "colab": {}
      },
      "source": [
        "model.load_weights('model.h5')\n"
      ],
      "execution_count": 0,
      "outputs": []
    },
    {
      "cell_type": "code",
      "metadata": {
        "id": "wy13ri0iD0fQ",
        "colab_type": "code",
        "colab": {}
      },
      "source": [
        "predictions = model.predict(test_ip)"
      ],
      "execution_count": 0,
      "outputs": []
    },
    {
      "cell_type": "code",
      "metadata": {
        "id": "bojkBtXHENoj",
        "colab_type": "code",
        "colab": {}
      },
      "source": [
        ""
      ],
      "execution_count": 0,
      "outputs": []
    }
  ]
}